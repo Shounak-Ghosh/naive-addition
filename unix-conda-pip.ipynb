{
 "cells": [
  {
   "cell_type": "markdown",
   "id": "399f6d9e",
   "metadata": {},
   "source": [
    "# Unix - Conda - Pip"
   ]
  },
  {
   "cell_type": "markdown",
   "id": "ef16b651",
   "metadata": {},
   "source": [
    "We run commands in CLI, e.g., Terminal, but here we are using Jupyter Notebook to demonstrate:\n",
    "\n",
    "1. Output from commands\n",
    "2. That when experiementing or developing programs in the notebook, you can avoid switching tools.\n",
    "3. That you can install pacakges in the beginning of the notebook (e.g., Sagemaker) so it's clear what packages are used."
   ]
  },
  {
   "cell_type": "markdown",
   "id": "944d1a51",
   "metadata": {},
   "source": [
    "## Unix commands"
   ]
  },
  {
   "cell_type": "markdown",
   "id": "f70f6301",
   "metadata": {},
   "source": [
    "### Basics"
   ]
  },
  {
   "cell_type": "markdown",
   "id": "a32b0652",
   "metadata": {},
   "source": [
    "For some of the basic commands, you can run use the cell to run it directly:"
   ]
  },
  {
   "cell_type": "code",
   "execution_count": 1,
   "id": "001e8c71",
   "metadata": {},
   "outputs": [
    {
     "data": {
      "text/plain": [
       "'/Users/shounakg/Documents/naive-addition'"
      ]
     },
     "execution_count": 1,
     "metadata": {},
     "output_type": "execute_result"
    }
   ],
   "source": [
    "pwd # print working directory"
   ]
  },
  {
   "cell_type": "markdown",
   "id": "00bf36c2",
   "metadata": {},
   "source": [
    "You always want to know \"where you are\" and how to look for help. Use `man` to display the user manual of any command that we can run on the terminal. "
   ]
  },
  {
   "cell_type": "code",
   "execution_count": 2,
   "id": "0e1d0b83",
   "metadata": {},
   "outputs": [
    {
     "name": "stdout",
     "output_type": "stream",
     "text": [
      "PWD(1)                       General Commands Manual                      PWD(1)\n",
      "\n",
      "N\bNA\bAM\bME\bE\n",
      "     p\bpw\bwd\bd – return working directory name\n",
      "\n",
      "S\bSY\bYN\bNO\bOP\bPS\bSI\bIS\bS\n",
      "     p\bpw\bwd\bd [-\b-L\bL | -\b-P\bP]\n",
      "\n",
      "D\bDE\bES\bSC\bCR\bRI\bIP\bPT\bTI\bIO\bON\bN\n",
      "     The p\bpw\bwd\bd utility writes the absolute pathname of the current working\n",
      "     directory to the standard output.\n",
      "\n",
      "     Some shells may provide a builtin p\bpw\bwd\bd command which is similar or identical\n",
      "     to this utility.  Consult the builtin(1) manual page.\n",
      "\n",
      "     The options are as follows:\n",
      "\n",
      "     -\b-L\bL      Display the logical current working directory.\n",
      "\n",
      "     -\b-P\bP      Display the physical current working directory (all symbolic links\n",
      "             resolved).\n",
      "\n",
      "     If no options are specified, the -\b-L\bL option is assumed.\n",
      "\n",
      "E\bEN\bNV\bVI\bIR\bRO\bON\bNM\bME\bEN\bNT\bT\n",
      "     Environment variables used by p\bpw\bwd\bd:\n",
      "\n",
      "     PWD      Logical current working directory.\n",
      "\n",
      "E\bEX\bXI\bIT\bT S\bST\bTA\bAT\bTU\bUS\bS\n",
      "     The p\bpw\bwd\bd utility exits 0 on success, and >0 if an error occurs.\n",
      "\n",
      "E\bEX\bXA\bAM\bMP\bPL\bLE\bES\bS\n",
      "     Show current working directory with symbolic links resolved:\n",
      "\n",
      "           $ /bin/pwd -P\n",
      "           /usr/home/fernape\n",
      "\n",
      "     Show the logical current directory.  Then use file(1) to inspect the _\b/_\bh_\bo_\bm_\be\n",
      "     directory:\n",
      "\n",
      "           $ /bin/pwd\n",
      "           /home/fernape\n",
      "           $ file /home\n",
      "           /home: symbolic link to usr/home\n",
      "\n",
      "S\bSE\bEE\bE A\bAL\bLS\bSO\bO\n",
      "     builtin(1), cd(1), csh(1), realpath(1), sh(1), getcwd(3)\n",
      "\n",
      "S\bST\bTA\bAN\bND\bDA\bAR\bRD\bDS\bS\n",
      "     The p\bpw\bwd\bd utility conforms to IEEE Std 1003.1-2001 (“POSIX.1”).\n",
      "\n",
      "H\bHI\bIS\bST\bTO\bOR\bRY\bY\n",
      "     The p\bpw\bwd\bd command appeared in Version 5 AT&T UNIX.\n",
      "\n",
      "B\bBU\bUG\bGS\bS\n",
      "     In csh(1) the command d\bdi\bir\brs\bs is always faster because it is built into that\n",
      "     shell.  However, it can give a different answer in the rare case that the\n",
      "     current directory or a containing directory was moved after the shell\n",
      "     descended into it.\n",
      "\n",
      "     The -\b-L\bL option does not work unless the PWD environment variable is exported\n",
      "     by the shell.\n",
      "\n",
      "macOS 12.2                      October 24, 2020                      macOS 12.2\n"
     ]
    }
   ],
   "source": [
    "man pwd # press ESC to exit"
   ]
  },
  {
   "cell_type": "markdown",
   "id": "5a2b554f",
   "metadata": {},
   "source": [
    "Further, cell magic `%%bash` turns a cell into a bash script where you can run multiple lines (See more cell/line magics [here](https://ipython.readthedocs.io/en/stable/interactive/magics.html)). "
   ]
  },
  {
   "cell_type": "code",
   "execution_count": 3,
   "id": "a0641721",
   "metadata": {},
   "outputs": [
    {
     "name": "stdout",
     "output_type": "stream",
     "text": [
      "/Users/shounakg/Documents/naive-addition\n",
      "total 80\n",
      "drwxr-xr-x  11 shounakg  staff   352B May  3 11:34 .\n",
      "drwx------@ 63 shounakg  staff   2.0K May  3 11:32 ..\n",
      "-rw-r--r--@  1 shounakg  staff   6.0K May  1 13:56 .DS_Store\n",
      "drwxr-xr-x  15 shounakg  staff   480B May  1 14:40 .git\n",
      "-rw-r--r--   1 shounakg  staff     0B May  1 13:47 .gitignore\n",
      "drwxr-xr-x   2 shounakg  staff    64B May  3 11:34 .ipynb_checkpoints\n",
      "-rw-r--r--   1 shounakg  staff   1.0K May  1 13:49 LICENSE\n",
      "-rw-r--r--   1 shounakg  staff    17B May  1 13:46 README.md\n",
      "-rw-r--r--   1 shounakg  staff    20B May  1 14:40 requirements.txt\n",
      "drwxr-xr-x   4 shounakg  staff   128B May  1 14:39 src\n",
      "-rw-r--r--@  1 shounakg  staff    19K May  3 11:35 unix-conda-pip.ipynb\n"
     ]
    }
   ],
   "source": [
    "%%bash\n",
    "pwd\n",
    "ls -lah # WE DO: What are those flags for?"
   ]
  },
  {
   "cell_type": "markdown",
   "id": "4d5a8316",
   "metadata": {},
   "source": [
    "### Download a data file"
   ]
  },
  {
   "cell_type": "markdown",
   "id": "0f13e067",
   "metadata": {},
   "source": [
    "Let's download some data from [Census Income Data Set](https://archive.ics.uci.edu/ml/datasets/Census+Income); but first we would like to make a new directory to store the data at the same level as `nb` directory."
   ]
  },
  {
   "cell_type": "code",
   "execution_count": 18,
   "id": "3b75c995",
   "metadata": {},
   "outputs": [
    {
     "name": "stdout",
     "output_type": "stream",
     "text": [
      "/Users/shounakg/Documents/dat\n"
     ]
    },
    {
     "name": "stderr",
     "output_type": "stream",
     "text": [
      "mkdir: dat: File exists\n"
     ]
    }
   ],
   "source": [
    "%%bash\n",
    "cd ..\n",
    "# WE DO: make a new diretory called `dat` under the project root directory\n",
    "mkdir dat\n",
    "cd dat\n",
    "pwd"
   ]
  },
  {
   "cell_type": "markdown",
   "id": "c6bcf58c",
   "metadata": {},
   "source": [
    "For the following sections, <b>if you're using a mac</b>, please install `tree` and `wget` using `brew`."
   ]
  },
  {
   "cell_type": "code",
   "execution_count": 12,
   "id": "314b03f0",
   "metadata": {},
   "outputs": [
    {
     "name": "stdout",
     "output_type": "stream",
     "text": [
      "\u001b[33mWarning:\u001b[0m tree 2.0.2 is already installed and up-to-date.\n",
      "To reinstall 2.0.2, run:\n",
      "  brew reinstall tree\n"
     ]
    }
   ],
   "source": [
    "!brew install tree"
   ]
  },
  {
   "cell_type": "code",
   "execution_count": 6,
   "id": "d8782314",
   "metadata": {},
   "outputs": [
    {
     "name": "stdout",
     "output_type": "stream",
     "text": [
      "\u001b[33mWarning:\u001b[0m wget 1.21.3 is already installed and up-to-date.\n",
      "To reinstall 1.21.3, run:\n",
      "  brew reinstall wget\n"
     ]
    }
   ],
   "source": [
    "!brew install wget"
   ]
  },
  {
   "cell_type": "markdown",
   "id": "8e4f5671",
   "metadata": {},
   "source": [
    "Let's confirm that we just created an empty directory `dat` using command `tree`. Not all command can be run in the cell directly, adding ! in front of command can do the trick:"
   ]
  },
  {
   "cell_type": "code",
   "execution_count": 20,
   "id": "0a31b61f",
   "metadata": {
    "scrolled": true
   },
   "outputs": [
    {
     "name": "stdout",
     "output_type": "stream",
     "text": [
      "/Users/shounakg/Documents/naive-addition\n",
      "\u001b[01;34m..\u001b[0m\n",
      "├── \u001b[01;34m1072 FRC Design Course\u001b[0m\n",
      "│   ├── \u001b[00mHomework 1-The Basics.docx\u001b[0m\n",
      "│   ├── \u001b[00mHomework 2 - Drivetrains.docx\u001b[0m\n",
      "│   ├── \u001b[00mHomework 3 - Pneumatics.docx\u001b[0m\n",
      "│   └── \u001b[00mHomework 4 - Finding Parts.docx\u001b[0m\n",
      "├── \u001b[00m8-Project The Simple Pendulum.odt\u001b[0m\n",
      "├── \u001b[00mAP Lit Research Essay.docx\u001b[0m\n",
      "├── \u001b[01;34mAdversarial_Research_Project\u001b[0m\n",
      "│   ├── \u001b[00m(Addison-Wesley Data & Analytics Series) Krohn, J._Beyleveld, G._Bassens, A. - Deep Learning Illustrated_ A Visual, Interactive Guide to Artificial Intelligence-Pearson Education (2019).pdf\u001b[0m\n",
      "│   ├── \u001b[00mAdversarial Attacks Research Notebook.docx\u001b[0m\n",
      "│   ├── \u001b[00mEpileptic Seizure Detection.pdf\u001b[0m\n",
      "│   ├── \u001b[00mKaty Warr - Strengthening Deep Neural Networks_ Making AI Less Susceptible to Adversarial Trickery-O’Reilly Media (2019).pdf\u001b[0m\n",
      "│   ├── \u001b[00mRRI Signature Sheet.pdf\u001b[0m\n",
      "│   ├── \u001b[00mRRI_Shounak_Ghosh.pdf\u001b[0m\n",
      "│   ├── \u001b[00mResearch Proposal.pdf\u001b[0m\n",
      "│   ├── \u001b[01;34mResults\u001b[0m\n",
      "│   ├── \u001b[00mfoolbox3.ipynb\u001b[0m\n",
      "│   ├── \u001b[00mseizure-detection.pdf\u001b[0m\n",
      "│   └── \u001b[00mtest_data.pkl\u001b[0m\n",
      "├── \u001b[01;34mCSS Tutorial\u001b[0m\n",
      "│   └── \u001b[00mmypage.html\u001b[0m\n",
      "├── \u001b[01;34mDiscrete MM files\u001b[0m\n",
      "│   ├── \u001b[00mDiscrete 1-6.nb\u001b[0m\n",
      "│   ├── \u001b[00mDiscrete 9-3.nb\u001b[0m\n",
      "│   ├── \u001b[00mDiscrete HW 1.nb\u001b[0m\n",
      "│   ├── \u001b[00mFinalProject.nb\u001b[0m\n",
      "│   ├── \u001b[00mGlideReflectionProject.nb\u001b[0m\n",
      "│   ├── \u001b[00mMMAProject.nb\u001b[0m\n",
      "│   └── \u001b[00mnormal powers as falling powers.nb\u001b[0m\n",
      "├── \u001b[01;34mEconometrics\u001b[0m\n",
      "│   ├── \u001b[01;34mData Sets- STATA\u001b[0m\n",
      "│   ├── \u001b[01;34mData Sets-E-Views\u001b[0m\n",
      "│   ├── \u001b[01;34mFinancial EM Project\u001b[0m\n",
      "│   ├── \u001b[01;34mPOE5Data\u001b[0m\n",
      "│   └── \u001b[00mSolutions_of_Wooldridge_Introductory_Eco.pdf\u001b[0m\n",
      "├── \u001b[00mFinal Image Journal.pdf\u001b[0m\n",
      "├── \u001b[01;34mGitHub\u001b[0m\n",
      "│   ├── \u001b[01;34mADV_ECG\u001b[0m\n",
      "│   ├── \u001b[01;34mAdversarial_EKG_Classifier\u001b[0m\n",
      "│   ├── \u001b[01;34mAdversarial_Examples_Results_Reproduction\u001b[0m\n",
      "│   ├── \u001b[01;34mECGadv\u001b[0m\n",
      "│   ├── \u001b[01;34mMathematicaProjects\u001b[0m\n",
      "│   ├── \u001b[01;34mecg\u001b[0m\n",
      "│   ├── \u001b[01;34mecg-classification\u001b[0m\n",
      "│   └── \u001b[01;34mliveliness-shounak\u001b[0m\n",
      "├── \u001b[01;35mIMG_5623.JPG\u001b[0m\n",
      "├── \u001b[00mIMG_5623_edited.png\u001b[0m\n",
      "├── \u001b[00mIMG_5623_edited2.png\u001b[0m\n",
      "├── \u001b[00mLeast_Squares_v5.pdf\u001b[0m\n",
      "├── \u001b[00mLiveliness - Iris Tracking.pdf\u001b[0m\n",
      "├── \u001b[01;34mMLE-7\u001b[0m\n",
      "│   ├── \u001b[00mLICENSE\u001b[0m\n",
      "│   ├── \u001b[00mREADME.md\u001b[0m\n",
      "│   ├── \u001b[01;34m_cheatsheets\u001b[0m\n",
      "│   ├── \u001b[01;34m_guides\u001b[0m\n",
      "│   └── \u001b[01;34massignments\u001b[0m\n",
      "├── \u001b[00mMandlebrot 2.nb\u001b[0m\n",
      "├── \u001b[01;34mOneMonth\u001b[0m\n",
      "│   ├── \u001b[01;34mHTML:CSS\u001b[0m\n",
      "│   └── \u001b[01;34mPython\u001b[0m\n",
      "├── \u001b[01;34mPersonal Information\u001b[0m\n",
      "│   ├── \u001b[01;34m10thGrade\u001b[0m\n",
      "│   ├── \u001b[01;34m11th Grade\u001b[0m\n",
      "│   ├── \u001b[01;34m9thGrade\u001b[0m\n",
      "│   ├── \u001b[01;34mAlgoTextFiles\u001b[0m\n",
      "│   ├── \u001b[01;34mElite\u001b[0m\n",
      "│   ├── \u001b[01;34mGames\u001b[0m\n",
      "│   ├── \u001b[01;34mInformational\u001b[0m\n",
      "│   ├── \u001b[01;34mMCQ Sheets\u001b[0m\n",
      "│   ├── \u001b[00mResume.pdf\u001b[0m\n",
      "│   ├── \u001b[00mScreen Shot 2021-04-17 at 8.12.52 PM.png\u001b[0m\n",
      "│   ├── \u001b[01;32mbirthcertificate.pdf\u001b[0m\n",
      "│   ├── \u001b[00mfood handler certification.pdf\u001b[0m\n",
      "│   ├── \u001b[01;32mpassport.pdf\u001b[0m\n",
      "│   ├── \u001b[01;32mscan0012.pdf\u001b[0m\n",
      "│   ├── \u001b[01;32munitedhealthcare.pdf\u001b[0m\n",
      "│   └── \u001b[01;32mutilitybill.pdf\u001b[0m\n",
      "├── \u001b[00mREADME.md\u001b[0m\n",
      "├── \u001b[00mRandom Triangle Game.nb\u001b[0m\n",
      "├── \u001b[00mResume 3.27.22.docx\u001b[0m\n",
      "├── \u001b[00mResume 3.27.22.pdf\u001b[0m\n",
      "├── \u001b[00mTannenbaum, Peter - Excursions in Modern Mathematics (2013).pdf\u001b[0m\n",
      "├── \u001b[01;34mTextbooks\u001b[0m\n",
      "│   ├── \u001b[00mArt Hist.pdf\u001b[0m\n",
      "│   ├── \u001b[00mDiffEq 6E.pdf\u001b[0m\n",
      "│   ├── \u001b[00mDiscrete Calculus.pdf\u001b[0m\n",
      "│   ├── \u001b[00mDiscrete.pdf\u001b[0m\n",
      "│   ├── \u001b[00mEcon 19E.pdf\u001b[0m\n",
      "│   ├── \u001b[00mEcon 21E.pdf\u001b[0m\n",
      "│   ├── \u001b[00mEconometrics.pdf\u001b[0m\n",
      "│   ├── \u001b[00mElectronics 3E.pdf\u001b[0m\n",
      "│   ├── \u001b[00mElementary Linear Algebra 11E.pdf\u001b[0m\n",
      "│   ├── \u001b[00mGame Theory.pdf\u001b[0m\n",
      "│   ├── \u001b[00mModern Robotics.pdf\u001b[0m\n",
      "│   ├── \u001b[01;34mOther\u001b[0m\n",
      "│   ├── \u001b[00mSignals Solutions.pdf\u001b[0m\n",
      "│   ├── \u001b[00mSignals.pdf\u001b[0m\n",
      "│   └── \u001b[00mTheBookOfMathFormulasAndStrategies.pdf\u001b[0m\n",
      "├── \u001b[00mVGGnet_wt_context.ckpt\u001b[0m\n",
      "├── \u001b[00mVivaldi Passwords.csv\u001b[0m\n",
      "├── \u001b[01;34mWolfram Mathematica\u001b[0m\n",
      "│   ├── \u001b[00m6.1 -6.2 HW Problems.nb\u001b[0m\n",
      "│   ├── \u001b[00mFast Mandlebrot.nb\u001b[0m\n",
      "│   ├── \u001b[00mMandelbrot & Julia Sets Project.nb\u001b[0m\n",
      "│   ├── \u001b[00mMandelbrot and Julia Sets.nb\u001b[0m\n",
      "│   ├── \u001b[00mapportionment project.nb\u001b[0m\n",
      "│   └── \u001b[00mex 3.5 verify.nb\u001b[0m\n",
      "├── \u001b[00mbazel_cmds.txt\u001b[0m\n",
      "├── \u001b[01;34mcarPython\u001b[0m\n",
      "│   ├── \u001b[00mREADME.md\u001b[0m\n",
      "│   ├── \u001b[01;34mmatrices\u001b[0m\n",
      "│   ├── \u001b[01;34mmovement\u001b[0m\n",
      "│   ├── \u001b[00mrequirements.txt\u001b[0m\n",
      "│   ├── \u001b[01;34msimulation\u001b[0m\n",
      "│   └── \u001b[00mterminal_commands.txt\u001b[0m\n",
      "├── \u001b[00mcluster login.png\u001b[0m\n",
      "├── \u001b[01;34mdat\u001b[0m\n",
      "│   └── \u001b[00madult.csv\u001b[0m\n",
      "├── \u001b[01;35mlinkedin pfp.jpeg\u001b[0m\n",
      "├── \u001b[01;34mlulw\u001b[0m\n",
      "│   ├── \u001b[01;35mIMG_2695 5.JPG\u001b[0m\n",
      "│   ├── \u001b[01;35mIMG_8523.JPG\u001b[0m\n",
      "│   ├── \u001b[00mScreen Shot 2020-09-15 at 10.28.00 AM.png\u001b[0m\n",
      "│   ├── \u001b[00mScreen Shot 2021-01-22 at 8.58.22 AM.png\u001b[0m\n",
      "│   ├── \u001b[00mScreen Shot 2021-04-09 at 11.19.36 AM.png\u001b[0m\n",
      "│   ├── \u001b[00mScreen Shot 2021-05-12 at 9.52.40 PM.png\u001b[0m\n",
      "│   ├── \u001b[00mScreen Shot 2021-05-15 at 10.14.03 PM.png\u001b[0m\n",
      "│   ├── \u001b[00mScreen Shot 2021-06-10 at 11.52.38 AM.png\u001b[0m\n",
      "│   ├── \u001b[00mScreen Shot 2021-06-12 at 10.54.49 PM.png\u001b[0m\n",
      "│   ├── \u001b[00mScreen Shot 2021-06-12 at 10.57.58 PM.png\u001b[0m\n",
      "│   ├── \u001b[00mScreen Shot 2021-06-20 at 10.06.39 PM.png\u001b[0m\n",
      "│   ├── \u001b[00mScreen Shot 2021-06-26 at 10.10.42 PM.png\u001b[0m\n",
      "│   ├── \u001b[00mScreen Shot 2021-07-01 at 9.55.34 AM.png\u001b[0m\n",
      "│   ├── \u001b[00mScreen Shot 2021-07-08 at 8.41.28 PM.png\u001b[0m\n",
      "│   ├── \u001b[00mScreen Shot 2021-07-19 at 10.03.25 AM.png\u001b[0m\n",
      "│   ├── \u001b[00mScreen Shot 2021-07-19 at 10.06.18 AM.png\u001b[0m\n",
      "│   └── \u001b[00mScreen Shot 2021-07-27 at 11.07.57 AM.png\u001b[0m\n",
      "├── \u001b[01;34mnaive-addition\u001b[0m\n",
      "│   ├── \u001b[00mLICENSE\u001b[0m\n",
      "│   ├── \u001b[00mREADME.md\u001b[0m\n",
      "│   ├── \u001b[00mrequirements.txt\u001b[0m\n",
      "│   ├── \u001b[01;34msrc\u001b[0m\n",
      "│   └── \u001b[00munix-conda-pip.ipynb\u001b[0m\n",
      "├── \u001b[00mnames.txt\u001b[0m\n",
      "├── \u001b[00mnyu deposit.pdf\u001b[0m\n",
      "├── \u001b[00mpartial table replication.png\u001b[0m\n",
      "├── \u001b[00mprog. lang. groupings.png\u001b[0m\n",
      "├── \u001b[01;34mreact-wordle\u001b[0m\n",
      "│   ├── \u001b[00mCODE_OF_CONDUCT.md\u001b[0m\n",
      "│   ├── \u001b[00mLICENSE\u001b[0m\n",
      "│   ├── \u001b[00mREADME.md\u001b[0m\n",
      "│   ├── \u001b[01;34mdocker\u001b[0m\n",
      "│   ├── \u001b[00mpackage-lock.json\u001b[0m\n",
      "│   ├── \u001b[00mpackage.json\u001b[0m\n",
      "│   ├── \u001b[00mpostcss.config.js\u001b[0m\n",
      "│   ├── \u001b[01;34mpublic\u001b[0m\n",
      "│   ├── \u001b[01;34msrc\u001b[0m\n",
      "│   ├── \u001b[00mtailwind.config.js\u001b[0m\n",
      "│   └── \u001b[00mtsconfig.json\u001b[0m\n",
      "├── \u001b[00mreplication table.png\u001b[0m\n",
      "├── \u001b[00mreport.pdf\u001b[0m\n",
      "├── \u001b[00mreport2020-21.pdf\u001b[0m\n",
      "├── \u001b[01;34mriley\u001b[0m\n",
      "│   ├── \u001b[00mIMG_1154.heic\u001b[0m\n",
      "│   ├── \u001b[01;35mIMG_1183.jpeg\u001b[0m\n",
      "│   ├── \u001b[00mIMG_1236.PNG\u001b[0m\n",
      "│   ├── \u001b[00mIMG_1237.PNG\u001b[0m\n",
      "│   ├── \u001b[00mScreen Shot 2022-01-19 at 10.52.23 PM.png\u001b[0m\n",
      "│   ├── \u001b[00mScreen Shot 2022-01-19 at 10.58.04 PM.png\u001b[0m\n",
      "│   ├── \u001b[00mScreen Shot 2022-01-30 at 10.17.28 AM.png\u001b[0m\n",
      "│   ├── \u001b[00mScreen Shot 2022-01-30 at 10.17.39 AM.png\u001b[0m\n",
      "│   ├── \u001b[00mScreen Shot 2022-01-30 at 10.17.54 AM.png\u001b[0m\n",
      "│   ├── \u001b[00mScreen Shot 2022-01-30 at 10.18.05 AM.png\u001b[0m\n",
      "│   ├── \u001b[00mScreen Shot 2022-01-30 at 10.18.17 AM.png\u001b[0m\n",
      "│   ├── \u001b[00mScreen Shot 2022-01-30 at 10.18.32 AM.png\u001b[0m\n",
      "│   ├── \u001b[00mScreen Shot 2022-01-30 at 10.18.46 AM.png\u001b[0m\n",
      "│   ├── \u001b[00mScreen Shot 2022-01-30 at 10.18.59 AM.png\u001b[0m\n",
      "│   ├── \u001b[00mScreen Shot 2022-01-30 at 10.19.34 AM.png\u001b[0m\n",
      "│   ├── \u001b[00mScreen Shot 2022-01-30 at 10.19.40 AM.png\u001b[0m\n",
      "│   ├── \u001b[00mScreen Shot 2022-01-30 at 10.20.20 AM.png\u001b[0m\n",
      "│   ├── \u001b[00mScreen Shot 2022-01-30 at 10.20.29 AM.png\u001b[0m\n",
      "│   ├── \u001b[00mScreen Shot 2022-01-30 at 10.20.37 AM.png\u001b[0m\n",
      "│   └── \u001b[00mScreen Shot 2022-01-30 at 10.20.43 AM.png\u001b[0m\n",
      "├── \u001b[00mrobo qr code.png\u001b[0m\n",
      "├── \u001b[01;34msimple-discord-bot\u001b[0m\n",
      "│   ├── \u001b[00mREADME.md\u001b[0m\n",
      "│   ├── \u001b[00menv.json\u001b[0m\n",
      "│   ├── \u001b[01;34mfunctions\u001b[0m\n",
      "│   ├── \u001b[00mpackage.json\u001b[0m\n",
      "│   ├── \u001b[00mpayloads.json\u001b[0m\n",
      "│   ├── \u001b[00mstdlib.json\u001b[0m\n",
      "│   └── \u001b[01;34mwww\u001b[0m\n",
      "├── \u001b[00msteiner points.nb\u001b[0m\n",
      "├── \u001b[00mterm_cmds.txt\u001b[0m\n",
      "├── \u001b[01;34mtest\u001b[0m\n",
      "├── \u001b[00mtwitter info.png\u001b[0m\n",
      "├── \u001b[01;34mtwitter-scraping-bot\u001b[0m\n",
      "│   ├── \u001b[00mLICENSE\u001b[0m\n",
      "│   ├── \u001b[00mREADME.md\u001b[0m\n",
      "│   ├── \u001b[01;34m__pycache__\u001b[0m\n",
      "│   ├── \u001b[00mconfig.py\u001b[0m\n",
      "│   ├── \u001b[00mglitch.json\u001b[0m\n",
      "│   ├── \u001b[00mmain.py\u001b[0m\n",
      "│   ├── \u001b[00mmarkov_bot.py\u001b[0m\n",
      "│   ├── \u001b[01;34mpublic\u001b[0m\n",
      "│   ├── \u001b[00mrequirements.txt\u001b[0m\n",
      "│   ├── \u001b[01;34mstatic\u001b[0m\n",
      "│   ├── \u001b[01;34mtemplates\u001b[0m\n",
      "│   ├── \u001b[00mtwitter_scraper_fetcher.py\u001b[0m\n",
      "│   └── \u001b[01;34mviews\u001b[0m\n",
      "├── \u001b[01;34mvoc_2007_trainval+voc_2012_trainval\u001b[0m\n",
      "│   ├── \u001b[01;34mVGGnet_wo_context\u001b[0m\n",
      "│   └── \u001b[01;34mVGGnet_wt_context\u001b[0m\n",
      "├── \u001b[00mweeb.txt\u001b[0m\n",
      "├── \u001b[01;34mworkouts\u001b[0m\n",
      "│   ├── \u001b[00m2700NutritionPlan.pdf\u001b[0m\n",
      "│   ├── \u001b[00mBodyTransformationCookbook.pdf\u001b[0m\n",
      "│   ├── \u001b[00mGymWorkoutPlan.pdf\u001b[0m\n",
      "│   ├── \u001b[00mNutritionPlan.pdf\u001b[0m\n",
      "│   ├── \u001b[00mSupplementPlan.pdf\u001b[0m\n",
      "│   ├── \u001b[00mSupplementPlan2.pdf\u001b[0m\n",
      "│   └── \u001b[00mWorkoutPlan.pdf\u001b[0m\n",
      "├── \u001b[00myolo3_voc0712.pt\u001b[0m\n",
      "├── \u001b[00myolo3spp_voc0712.pt\u001b[0m\n",
      "├── \u001b[00m~$ Lit Research Essay.docx\u001b[0m\n",
      "├── \u001b[00m~$Perceptron.xlsx\u001b[0m\n",
      "├── \u001b[00m~$p4_22shounakg_Perceptron.xlsx\u001b[0m\n",
      "├── \u001b[00m~$sume 3.21.22.docx\u001b[0m\n",
      "└── \u001b[00m~$sume 3.27.22.docx\u001b[0m\n",
      "\n",
      "65 directories, 164 files\n"
     ]
    }
   ],
   "source": [
    "!pwd\n",
    "!tree .. -L 2"
   ]
  },
  {
   "cell_type": "code",
   "execution_count": 16,
   "id": "273eed2c",
   "metadata": {},
   "outputs": [
    {
     "name": "stdout",
     "output_type": "stream",
     "text": [
      "--2022-05-03 11:38:38--  https://archive.ics.uci.edu/ml/machine-learning-databases/adult/adult.data\n",
      "Resolving archive.ics.uci.edu (archive.ics.uci.edu)... 128.195.10.252\n",
      "Connecting to archive.ics.uci.edu (archive.ics.uci.edu)|128.195.10.252|:443... connected.\n",
      "HTTP request sent, awaiting response... 200 OK\n",
      "Length: 3974305 (3.8M) [application/x-httpd-php]\n",
      "Saving to: ‘../dat/adult.csv’\n",
      "\n",
      "../dat/adult.csv    100%[===================>]   3.79M  2.65MB/s    in 1.4s    \n",
      "\n",
      "2022-05-03 11:38:40 (2.65 MB/s) - ‘../dat/adult.csv’ saved [3974305/3974305]\n",
      "\n"
     ]
    }
   ],
   "source": [
    "# download a csv file\n",
    "!wget https://archive.ics.uci.edu/ml/machine-learning-databases/adult/adult.data -O ../dat/adult.csv"
   ]
  },
  {
   "cell_type": "code",
   "execution_count": 17,
   "id": "d45bd2fd",
   "metadata": {},
   "outputs": [
    {
     "name": "stdout",
     "output_type": "stream",
     "text": [
      "\u001b[01;34m..\u001b[0m\n",
      "├── \u001b[01;34m1072 FRC Design Course\u001b[0m\n",
      "│   ├── \u001b[00mHomework 1-The Basics.docx\u001b[0m\n",
      "│   ├── \u001b[00mHomework 2 - Drivetrains.docx\u001b[0m\n",
      "│   ├── \u001b[00mHomework 3 - Pneumatics.docx\u001b[0m\n",
      "│   └── \u001b[00mHomework 4 - Finding Parts.docx\u001b[0m\n",
      "├── \u001b[00m8-Project The Simple Pendulum.odt\u001b[0m\n",
      "├── \u001b[00mAP Lit Research Essay.docx\u001b[0m\n",
      "├── \u001b[01;34mAdversarial_Research_Project\u001b[0m\n",
      "│   ├── \u001b[00m(Addison-Wesley Data & Analytics Series) Krohn, J._Beyleveld, G._Bassens, A. - Deep Learning Illustrated_ A Visual, Interactive Guide to Artificial Intelligence-Pearson Education (2019).pdf\u001b[0m\n",
      "│   ├── \u001b[00mAdversarial Attacks Research Notebook.docx\u001b[0m\n",
      "│   ├── \u001b[00mEpileptic Seizure Detection.pdf\u001b[0m\n",
      "│   ├── \u001b[00mKaty Warr - Strengthening Deep Neural Networks_ Making AI Less Susceptible to Adversarial Trickery-O’Reilly Media (2019).pdf\u001b[0m\n",
      "│   ├── \u001b[00mRRI Signature Sheet.pdf\u001b[0m\n",
      "│   ├── \u001b[00mRRI_Shounak_Ghosh.pdf\u001b[0m\n",
      "│   ├── \u001b[00mResearch Proposal.pdf\u001b[0m\n",
      "│   ├── \u001b[01;34mResults\u001b[0m\n",
      "│   ├── \u001b[00mfoolbox3.ipynb\u001b[0m\n",
      "│   ├── \u001b[00mseizure-detection.pdf\u001b[0m\n",
      "│   └── \u001b[00mtest_data.pkl\u001b[0m\n",
      "├── \u001b[01;34mCSS Tutorial\u001b[0m\n",
      "│   └── \u001b[00mmypage.html\u001b[0m\n",
      "├── \u001b[01;34mDiscrete MM files\u001b[0m\n",
      "│   ├── \u001b[00mDiscrete 1-6.nb\u001b[0m\n",
      "│   ├── \u001b[00mDiscrete 9-3.nb\u001b[0m\n",
      "│   ├── \u001b[00mDiscrete HW 1.nb\u001b[0m\n",
      "│   ├── \u001b[00mFinalProject.nb\u001b[0m\n",
      "│   ├── \u001b[00mGlideReflectionProject.nb\u001b[0m\n",
      "│   ├── \u001b[00mMMAProject.nb\u001b[0m\n",
      "│   └── \u001b[00mnormal powers as falling powers.nb\u001b[0m\n",
      "├── \u001b[01;34mEconometrics\u001b[0m\n",
      "│   ├── \u001b[01;34mData Sets- STATA\u001b[0m\n",
      "│   ├── \u001b[01;34mData Sets-E-Views\u001b[0m\n",
      "│   ├── \u001b[01;34mFinancial EM Project\u001b[0m\n",
      "│   ├── \u001b[01;34mPOE5Data\u001b[0m\n",
      "│   └── \u001b[00mSolutions_of_Wooldridge_Introductory_Eco.pdf\u001b[0m\n",
      "├── \u001b[00mFinal Image Journal.pdf\u001b[0m\n",
      "├── \u001b[01;34mGitHub\u001b[0m\n",
      "│   ├── \u001b[01;34mADV_ECG\u001b[0m\n",
      "│   ├── \u001b[01;34mAdversarial_EKG_Classifier\u001b[0m\n",
      "│   ├── \u001b[01;34mAdversarial_Examples_Results_Reproduction\u001b[0m\n",
      "│   ├── \u001b[01;34mECGadv\u001b[0m\n",
      "│   ├── \u001b[01;34mMathematicaProjects\u001b[0m\n",
      "│   ├── \u001b[01;34mecg\u001b[0m\n",
      "│   ├── \u001b[01;34mecg-classification\u001b[0m\n",
      "│   └── \u001b[01;34mliveliness-shounak\u001b[0m\n",
      "├── \u001b[01;35mIMG_5623.JPG\u001b[0m\n",
      "├── \u001b[00mIMG_5623_edited.png\u001b[0m\n",
      "├── \u001b[00mIMG_5623_edited2.png\u001b[0m\n",
      "├── \u001b[00mLeast_Squares_v5.pdf\u001b[0m\n",
      "├── \u001b[00mLiveliness - Iris Tracking.pdf\u001b[0m\n",
      "├── \u001b[01;34mMLE-7\u001b[0m\n",
      "│   ├── \u001b[00mLICENSE\u001b[0m\n",
      "│   ├── \u001b[00mREADME.md\u001b[0m\n",
      "│   ├── \u001b[01;34m_cheatsheets\u001b[0m\n",
      "│   ├── \u001b[01;34m_guides\u001b[0m\n",
      "│   └── \u001b[01;34massignments\u001b[0m\n",
      "├── \u001b[00mMandlebrot 2.nb\u001b[0m\n",
      "├── \u001b[01;34mOneMonth\u001b[0m\n",
      "│   ├── \u001b[01;34mHTML:CSS\u001b[0m\n",
      "│   └── \u001b[01;34mPython\u001b[0m\n",
      "├── \u001b[01;34mPersonal Information\u001b[0m\n",
      "│   ├── \u001b[01;34m10thGrade\u001b[0m\n",
      "│   ├── \u001b[01;34m11th Grade\u001b[0m\n",
      "│   ├── \u001b[01;34m9thGrade\u001b[0m\n",
      "│   ├── \u001b[01;34mAlgoTextFiles\u001b[0m\n",
      "│   ├── \u001b[01;34mElite\u001b[0m\n",
      "│   ├── \u001b[01;34mGames\u001b[0m\n",
      "│   ├── \u001b[01;34mInformational\u001b[0m\n",
      "│   ├── \u001b[01;34mMCQ Sheets\u001b[0m\n",
      "│   ├── \u001b[00mResume.pdf\u001b[0m\n",
      "│   ├── \u001b[00mScreen Shot 2021-04-17 at 8.12.52 PM.png\u001b[0m\n",
      "│   ├── \u001b[01;32mbirthcertificate.pdf\u001b[0m\n",
      "│   ├── \u001b[00mfood handler certification.pdf\u001b[0m\n",
      "│   ├── \u001b[01;32mpassport.pdf\u001b[0m\n",
      "│   ├── \u001b[01;32mscan0012.pdf\u001b[0m\n",
      "│   ├── \u001b[01;32munitedhealthcare.pdf\u001b[0m\n",
      "│   └── \u001b[01;32mutilitybill.pdf\u001b[0m\n",
      "├── \u001b[00mREADME.md\u001b[0m\n",
      "├── \u001b[00mRandom Triangle Game.nb\u001b[0m\n",
      "├── \u001b[00mResume 3.27.22.docx\u001b[0m\n",
      "├── \u001b[00mResume 3.27.22.pdf\u001b[0m\n",
      "├── \u001b[00mTannenbaum, Peter - Excursions in Modern Mathematics (2013).pdf\u001b[0m\n",
      "├── \u001b[01;34mTextbooks\u001b[0m\n",
      "│   ├── \u001b[00mArt Hist.pdf\u001b[0m\n",
      "│   ├── \u001b[00mDiffEq 6E.pdf\u001b[0m\n",
      "│   ├── \u001b[00mDiscrete Calculus.pdf\u001b[0m\n",
      "│   ├── \u001b[00mDiscrete.pdf\u001b[0m\n",
      "│   ├── \u001b[00mEcon 19E.pdf\u001b[0m\n",
      "│   ├── \u001b[00mEcon 21E.pdf\u001b[0m\n",
      "│   ├── \u001b[00mEconometrics.pdf\u001b[0m\n",
      "│   ├── \u001b[00mElectronics 3E.pdf\u001b[0m\n",
      "│   ├── \u001b[00mElementary Linear Algebra 11E.pdf\u001b[0m\n",
      "│   ├── \u001b[00mGame Theory.pdf\u001b[0m\n",
      "│   ├── \u001b[00mModern Robotics.pdf\u001b[0m\n",
      "│   ├── \u001b[01;34mOther\u001b[0m\n",
      "│   ├── \u001b[00mSignals Solutions.pdf\u001b[0m\n",
      "│   ├── \u001b[00mSignals.pdf\u001b[0m\n",
      "│   └── \u001b[00mTheBookOfMathFormulasAndStrategies.pdf\u001b[0m\n",
      "├── \u001b[00mVGGnet_wt_context.ckpt\u001b[0m\n",
      "├── \u001b[00mVivaldi Passwords.csv\u001b[0m\n",
      "├── \u001b[01;34mWolfram Mathematica\u001b[0m\n",
      "│   ├── \u001b[00m6.1 -6.2 HW Problems.nb\u001b[0m\n",
      "│   ├── \u001b[00mFast Mandlebrot.nb\u001b[0m\n",
      "│   ├── \u001b[00mMandelbrot & Julia Sets Project.nb\u001b[0m\n",
      "│   ├── \u001b[00mMandelbrot and Julia Sets.nb\u001b[0m\n",
      "│   ├── \u001b[00mapportionment project.nb\u001b[0m\n",
      "│   └── \u001b[00mex 3.5 verify.nb\u001b[0m\n",
      "├── \u001b[00mbazel_cmds.txt\u001b[0m\n",
      "├── \u001b[01;34mcarPython\u001b[0m\n",
      "│   ├── \u001b[00mREADME.md\u001b[0m\n",
      "│   ├── \u001b[01;34mmatrices\u001b[0m\n",
      "│   ├── \u001b[01;34mmovement\u001b[0m\n",
      "│   ├── \u001b[00mrequirements.txt\u001b[0m\n",
      "│   ├── \u001b[01;34msimulation\u001b[0m\n",
      "│   └── \u001b[00mterminal_commands.txt\u001b[0m\n",
      "├── \u001b[00mcluster login.png\u001b[0m\n",
      "├── \u001b[01;34mdat\u001b[0m\n",
      "│   └── \u001b[00madult.csv\u001b[0m\n",
      "├── \u001b[01;35mlinkedin pfp.jpeg\u001b[0m\n",
      "├── \u001b[01;34mlulw\u001b[0m\n",
      "│   ├── \u001b[01;35mIMG_2695 5.JPG\u001b[0m\n",
      "│   ├── \u001b[01;35mIMG_8523.JPG\u001b[0m\n",
      "│   ├── \u001b[00mScreen Shot 2020-09-15 at 10.28.00 AM.png\u001b[0m\n",
      "│   ├── \u001b[00mScreen Shot 2021-01-22 at 8.58.22 AM.png\u001b[0m\n",
      "│   ├── \u001b[00mScreen Shot 2021-04-09 at 11.19.36 AM.png\u001b[0m\n",
      "│   ├── \u001b[00mScreen Shot 2021-05-12 at 9.52.40 PM.png\u001b[0m\n",
      "│   ├── \u001b[00mScreen Shot 2021-05-15 at 10.14.03 PM.png\u001b[0m\n",
      "│   ├── \u001b[00mScreen Shot 2021-06-10 at 11.52.38 AM.png\u001b[0m\n",
      "│   ├── \u001b[00mScreen Shot 2021-06-12 at 10.54.49 PM.png\u001b[0m\n",
      "│   ├── \u001b[00mScreen Shot 2021-06-12 at 10.57.58 PM.png\u001b[0m\n",
      "│   ├── \u001b[00mScreen Shot 2021-06-20 at 10.06.39 PM.png\u001b[0m\n",
      "│   ├── \u001b[00mScreen Shot 2021-06-26 at 10.10.42 PM.png\u001b[0m\n",
      "│   ├── \u001b[00mScreen Shot 2021-07-01 at 9.55.34 AM.png\u001b[0m\n",
      "│   ├── \u001b[00mScreen Shot 2021-07-08 at 8.41.28 PM.png\u001b[0m\n",
      "│   ├── \u001b[00mScreen Shot 2021-07-19 at 10.03.25 AM.png\u001b[0m\n",
      "│   ├── \u001b[00mScreen Shot 2021-07-19 at 10.06.18 AM.png\u001b[0m\n",
      "│   └── \u001b[00mScreen Shot 2021-07-27 at 11.07.57 AM.png\u001b[0m\n",
      "├── \u001b[01;34mnaive-addition\u001b[0m\n",
      "│   ├── \u001b[00mLICENSE\u001b[0m\n",
      "│   ├── \u001b[00mREADME.md\u001b[0m\n",
      "│   ├── \u001b[00mrequirements.txt\u001b[0m\n",
      "│   ├── \u001b[01;34msrc\u001b[0m\n",
      "│   └── \u001b[00munix-conda-pip.ipynb\u001b[0m\n",
      "├── \u001b[00mnames.txt\u001b[0m\n",
      "├── \u001b[00mnyu deposit.pdf\u001b[0m\n",
      "├── \u001b[00mpartial table replication.png\u001b[0m\n",
      "├── \u001b[00mprog. lang. groupings.png\u001b[0m\n",
      "├── \u001b[01;34mreact-wordle\u001b[0m\n",
      "│   ├── \u001b[00mCODE_OF_CONDUCT.md\u001b[0m\n",
      "│   ├── \u001b[00mLICENSE\u001b[0m\n",
      "│   ├── \u001b[00mREADME.md\u001b[0m\n",
      "│   ├── \u001b[01;34mdocker\u001b[0m\n",
      "│   ├── \u001b[00mpackage-lock.json\u001b[0m\n",
      "│   ├── \u001b[00mpackage.json\u001b[0m\n",
      "│   ├── \u001b[00mpostcss.config.js\u001b[0m\n",
      "│   ├── \u001b[01;34mpublic\u001b[0m\n",
      "│   ├── \u001b[01;34msrc\u001b[0m\n",
      "│   ├── \u001b[00mtailwind.config.js\u001b[0m\n",
      "│   └── \u001b[00mtsconfig.json\u001b[0m\n",
      "├── \u001b[00mreplication table.png\u001b[0m\n",
      "├── \u001b[00mreport.pdf\u001b[0m\n",
      "├── \u001b[00mreport2020-21.pdf\u001b[0m\n",
      "├── \u001b[01;34mriley\u001b[0m\n",
      "│   ├── \u001b[00mIMG_1154.heic\u001b[0m\n",
      "│   ├── \u001b[01;35mIMG_1183.jpeg\u001b[0m\n",
      "│   ├── \u001b[00mIMG_1236.PNG\u001b[0m\n",
      "│   ├── \u001b[00mIMG_1237.PNG\u001b[0m\n",
      "│   ├── \u001b[00mScreen Shot 2022-01-19 at 10.52.23 PM.png\u001b[0m\n",
      "│   ├── \u001b[00mScreen Shot 2022-01-19 at 10.58.04 PM.png\u001b[0m\n",
      "│   ├── \u001b[00mScreen Shot 2022-01-30 at 10.17.28 AM.png\u001b[0m\n",
      "│   ├── \u001b[00mScreen Shot 2022-01-30 at 10.17.39 AM.png\u001b[0m\n",
      "│   ├── \u001b[00mScreen Shot 2022-01-30 at 10.17.54 AM.png\u001b[0m\n",
      "│   ├── \u001b[00mScreen Shot 2022-01-30 at 10.18.05 AM.png\u001b[0m\n",
      "│   ├── \u001b[00mScreen Shot 2022-01-30 at 10.18.17 AM.png\u001b[0m\n",
      "│   ├── \u001b[00mScreen Shot 2022-01-30 at 10.18.32 AM.png\u001b[0m\n",
      "│   ├── \u001b[00mScreen Shot 2022-01-30 at 10.18.46 AM.png\u001b[0m\n",
      "│   ├── \u001b[00mScreen Shot 2022-01-30 at 10.18.59 AM.png\u001b[0m\n",
      "│   ├── \u001b[00mScreen Shot 2022-01-30 at 10.19.34 AM.png\u001b[0m\n",
      "│   ├── \u001b[00mScreen Shot 2022-01-30 at 10.19.40 AM.png\u001b[0m\n",
      "│   ├── \u001b[00mScreen Shot 2022-01-30 at 10.20.20 AM.png\u001b[0m\n",
      "│   ├── \u001b[00mScreen Shot 2022-01-30 at 10.20.29 AM.png\u001b[0m\n",
      "│   ├── \u001b[00mScreen Shot 2022-01-30 at 10.20.37 AM.png\u001b[0m\n",
      "│   └── \u001b[00mScreen Shot 2022-01-30 at 10.20.43 AM.png\u001b[0m\n",
      "├── \u001b[00mrobo qr code.png\u001b[0m\n",
      "├── \u001b[01;34msimple-discord-bot\u001b[0m\n",
      "│   ├── \u001b[00mREADME.md\u001b[0m\n",
      "│   ├── \u001b[00menv.json\u001b[0m\n",
      "│   ├── \u001b[01;34mfunctions\u001b[0m\n",
      "│   ├── \u001b[00mpackage.json\u001b[0m\n",
      "│   ├── \u001b[00mpayloads.json\u001b[0m\n",
      "│   ├── \u001b[00mstdlib.json\u001b[0m\n",
      "│   └── \u001b[01;34mwww\u001b[0m\n",
      "├── \u001b[00msteiner points.nb\u001b[0m\n",
      "├── \u001b[00mterm_cmds.txt\u001b[0m\n",
      "├── \u001b[01;34mtest\u001b[0m\n",
      "├── \u001b[00mtwitter info.png\u001b[0m\n",
      "├── \u001b[01;34mtwitter-scraping-bot\u001b[0m\n",
      "│   ├── \u001b[00mLICENSE\u001b[0m\n",
      "│   ├── \u001b[00mREADME.md\u001b[0m\n",
      "│   ├── \u001b[01;34m__pycache__\u001b[0m\n",
      "│   ├── \u001b[00mconfig.py\u001b[0m\n",
      "│   ├── \u001b[00mglitch.json\u001b[0m\n",
      "│   ├── \u001b[00mmain.py\u001b[0m\n",
      "│   ├── \u001b[00mmarkov_bot.py\u001b[0m\n",
      "│   ├── \u001b[01;34mpublic\u001b[0m\n",
      "│   ├── \u001b[00mrequirements.txt\u001b[0m\n",
      "│   ├── \u001b[01;34mstatic\u001b[0m\n",
      "│   ├── \u001b[01;34mtemplates\u001b[0m\n",
      "│   ├── \u001b[00mtwitter_scraper_fetcher.py\u001b[0m\n",
      "│   └── \u001b[01;34mviews\u001b[0m\n",
      "├── \u001b[01;34mvoc_2007_trainval+voc_2012_trainval\u001b[0m\n",
      "│   ├── \u001b[01;34mVGGnet_wo_context\u001b[0m\n",
      "│   └── \u001b[01;34mVGGnet_wt_context\u001b[0m\n",
      "├── \u001b[00mweeb.txt\u001b[0m\n",
      "├── \u001b[01;34mworkouts\u001b[0m\n",
      "│   ├── \u001b[00m2700NutritionPlan.pdf\u001b[0m\n",
      "│   ├── \u001b[00mBodyTransformationCookbook.pdf\u001b[0m\n",
      "│   ├── \u001b[00mGymWorkoutPlan.pdf\u001b[0m\n",
      "│   ├── \u001b[00mNutritionPlan.pdf\u001b[0m\n",
      "│   ├── \u001b[00mSupplementPlan.pdf\u001b[0m\n",
      "│   ├── \u001b[00mSupplementPlan2.pdf\u001b[0m\n",
      "│   └── \u001b[00mWorkoutPlan.pdf\u001b[0m\n",
      "├── \u001b[00myolo3_voc0712.pt\u001b[0m\n",
      "├── \u001b[00myolo3spp_voc0712.pt\u001b[0m\n",
      "├── \u001b[00m~$ Lit Research Essay.docx\u001b[0m\n",
      "├── \u001b[00m~$Perceptron.xlsx\u001b[0m\n",
      "├── \u001b[00m~$p4_22shounakg_Perceptron.xlsx\u001b[0m\n",
      "├── \u001b[00m~$sume 3.21.22.docx\u001b[0m\n",
      "└── \u001b[00m~$sume 3.27.22.docx\u001b[0m\n",
      "\n",
      "65 directories, 164 files\n"
     ]
    }
   ],
   "source": [
    "!tree .. -L 2 # check again"
   ]
  },
  {
   "cell_type": "markdown",
   "id": "d1c3ad4c",
   "metadata": {},
   "source": [
    "### Inspect data"
   ]
  },
  {
   "cell_type": "markdown",
   "id": "a17d9ad5",
   "metadata": {},
   "source": [
    "Let's inspect first 10 lines of data:"
   ]
  },
  {
   "cell_type": "code",
   "execution_count": 21,
   "id": "4b397608",
   "metadata": {},
   "outputs": [
    {
     "name": "stdout",
     "output_type": "stream",
     "text": [
      "39, State-gov, 77516, Bachelors, 13, Never-married, Adm-clerical, Not-in-family, White, Male, 2174, 0, 40, United-States, <=50K\n",
      "50, Self-emp-not-inc, 83311, Bachelors, 13, Married-civ-spouse, Exec-managerial, Husband, White, Male, 0, 0, 13, United-States, <=50K\n",
      "38, Private, 215646, HS-grad, 9, Divorced, Handlers-cleaners, Not-in-family, White, Male, 0, 0, 40, United-States, <=50K\n",
      "53, Private, 234721, 11th, 7, Married-civ-spouse, Handlers-cleaners, Husband, Black, Male, 0, 0, 40, United-States, <=50K\n",
      "28, Private, 338409, Bachelors, 13, Married-civ-spouse, Prof-specialty, Wife, Black, Female, 0, 0, 40, Cuba, <=50K\n",
      "37, Private, 284582, Masters, 14, Married-civ-spouse, Exec-managerial, Wife, White, Female, 0, 0, 40, United-States, <=50K\n",
      "49, Private, 160187, 9th, 5, Married-spouse-absent, Other-service, Not-in-family, Black, Female, 0, 0, 16, Jamaica, <=50K\n",
      "52, Self-emp-not-inc, 209642, HS-grad, 9, Married-civ-spouse, Exec-managerial, Husband, White, Male, 0, 0, 45, United-States, >50K\n",
      "31, Private, 45781, Masters, 14, Never-married, Prof-specialty, Not-in-family, White, Female, 14084, 0, 50, United-States, >50K\n",
      "42, Private, 159449, Bachelors, 13, Married-civ-spouse, Exec-managerial, Husband, White, Male, 5178, 0, 40, United-States, >50K\n"
     ]
    }
   ],
   "source": [
    "!head ../dat/adult.csv"
   ]
  },
  {
   "cell_type": "markdown",
   "id": "17f5a9f0",
   "metadata": {},
   "source": [
    "How about the last 3 lines? ( wait, I only see 2 lines. what's wrong? ) "
   ]
  },
  {
   "cell_type": "code",
   "execution_count": 22,
   "id": "c59382eb",
   "metadata": {},
   "outputs": [
    {
     "name": "stdout",
     "output_type": "stream",
     "text": [
      "58, Private, 151910, HS-grad, 9, Widowed, Adm-clerical, Unmarried, White, Female, 0, 0, 40, United-States, <=50K\n",
      "22, Private, 201490, HS-grad, 9, Never-married, Adm-clerical, Own-child, White, Male, 0, 0, 20, United-States, <=50K\n",
      "52, Self-emp-inc, 287927, HS-grad, 9, Married-civ-spouse, Exec-managerial, Wife, White, Female, 15024, 0, 40, United-States, >50K\n",
      "\n"
     ]
    }
   ],
   "source": [
    "!tail -n 4 ../dat/adult.csv"
   ]
  },
  {
   "cell_type": "markdown",
   "id": "93d8f299",
   "metadata": {},
   "source": [
    "How many records are there?"
   ]
  },
  {
   "cell_type": "code",
   "execution_count": 23,
   "id": "ff9852aa",
   "metadata": {},
   "outputs": [
    {
     "name": "stdout",
     "output_type": "stream",
     "text": [
      "   32562 ../dat/adult.csv\n"
     ]
    }
   ],
   "source": [
    "!wc -l ../dat/adult.csv"
   ]
  },
  {
   "cell_type": "markdown",
   "id": "422009f8",
   "metadata": {},
   "source": [
    "Challenge: how many columns are there?"
   ]
  },
  {
   "cell_type": "code",
   "execution_count": 24,
   "id": "195b5b57",
   "metadata": {},
   "outputs": [
    {
     "name": "stdout",
     "output_type": "stream",
     "text": [
      "      15\n"
     ]
    }
   ],
   "source": [
    "!head -1 ../dat/adult.csv | sed 's/[^,]//g' | wc -c"
   ]
  },
  {
   "cell_type": "markdown",
   "id": "e52d18e0",
   "metadata": {},
   "source": [
    "## Conda: environment manager + package manager"
   ]
  },
  {
   "cell_type": "markdown",
   "id": "8fec4699",
   "metadata": {},
   "source": [
    "You might have heard about Anaconda / Miniconda / Miniforge:"
   ]
  },
  {
   "cell_type": "markdown",
   "id": "70b40550",
   "metadata": {},
   "source": [
    "- What is the difference between `conda` and `miniconda`? [An answer](https://stackoverflow.com/questions/45421163/anaconda-vs-miniconda).\n",
    "- What is the difference between `miniconda` and `miniforge`? [An answer](https://stackoverflow.com/questions/60532678/what-is-the-difference-between-miniconda-and-miniforge).\n",
    "\n",
    "Though Conda is considered both a package manager and an environment manager, we  focus on using it as the environment manager, and use `pip` as the package manager."
   ]
  },
  {
   "cell_type": "markdown",
   "id": "fa2f0973",
   "metadata": {},
   "source": [
    "### Installation"
   ]
  },
  {
   "cell_type": "markdown",
   "id": "aef39f0a",
   "metadata": {},
   "source": [
    "First, install `miniconda` (Feel free to skip if you have already installed it, or any flavor of conda).\n",
    "\n",
    "Run the following commands in terminal to download the lastest Miniconda distribution and install it (Mac Intel Book). \n",
    "\n",
    "    ```\n",
    "    cd ~\n",
    "    wget https://repo.anaconda.com/miniconda/Miniconda3-latest-MacOSX-x86_64.sh\n",
    "    bash Miniconda3-latest-MacOSX-x86_64.sh\n",
    "    ```\n",
    "\n",
    "For M1 chip, install `miniforge` instead. If you are new to `brew`, following instructions [here](https://brew.sh) to install Homebrew first:\n",
    "\n",
    "    ```\n",
    "    brew install miniforge\n",
    "    ```\n",
    "\n",
    "Outputs from these installations are rather long, so we ask you to run it in a terminal window instead."
   ]
  },
  {
   "cell_type": "markdown",
   "id": "4ac65956",
   "metadata": {},
   "source": [
    "Confirm that the installation is successful:"
   ]
  },
  {
   "cell_type": "code",
   "execution_count": 25,
   "id": "f8a10e9d",
   "metadata": {},
   "outputs": [
    {
     "name": "stdout",
     "output_type": "stream",
     "text": [
      "/Users/shounakg/opt/anaconda3/bin/conda\n",
      "conda 4.12.0\n",
      "/Users/shounakg/opt/anaconda3/bin/python\n",
      "Python 3.9.7\n"
     ]
    }
   ],
   "source": [
    "%%bash\n",
    "which conda  # where the executable conda is in my path?\n",
    "conda -V     # which version of conda?\n",
    "which python # where the executable python is in my path?\n",
    "python -V    # what version of python?"
   ]
  },
  {
   "cell_type": "markdown",
   "id": "a6331b4b",
   "metadata": {},
   "source": [
    "### Create a new env"
   ]
  },
  {
   "cell_type": "markdown",
   "id": "b25f1463",
   "metadata": {},
   "source": [
    "Create a new conda environment named `py39_12` where you specify a python version to be 3.9.12. Note the last flag `--yes` to skip the confirmation prompt."
   ]
  },
  {
   "cell_type": "code",
   "execution_count": 26,
   "id": "212568f0",
   "metadata": {},
   "outputs": [
    {
     "name": "stdout",
     "output_type": "stream",
     "text": [
      "Collecting package metadata (current_repodata.json): done\n",
      "Solving environment: done\n",
      "\n",
      "## Package Plan ##\n",
      "\n",
      "  environment location: /Users/shounakg/opt/anaconda3/envs/py39_12\n",
      "\n",
      "  added / updated specs:\n",
      "    - python=3.9.12\n",
      "\n",
      "\n",
      "The following NEW packages will be INSTALLED:\n",
      "\n",
      "  ca-certificates    pkgs/main/osx-64::ca-certificates-2022.4.26-hecd8cb5_0\n",
      "  certifi            pkgs/main/osx-64::certifi-2021.10.8-py39hecd8cb5_2\n",
      "  libcxx             pkgs/main/osx-64::libcxx-12.0.0-h2f01273_0\n",
      "  libffi             pkgs/main/osx-64::libffi-3.3-hb1e8313_2\n",
      "  ncurses            pkgs/main/osx-64::ncurses-6.3-hca72f7f_2\n",
      "  openssl            pkgs/main/osx-64::openssl-1.1.1n-hca72f7f_0\n",
      "  pip                pkgs/main/osx-64::pip-21.2.4-py39hecd8cb5_0\n",
      "  python             pkgs/main/osx-64::python-3.9.12-hdfd78df_0\n",
      "  readline           pkgs/main/osx-64::readline-8.1.2-hca72f7f_1\n",
      "  setuptools         pkgs/main/osx-64::setuptools-61.2.0-py39hecd8cb5_0\n",
      "  sqlite             pkgs/main/osx-64::sqlite-3.38.2-h707629a_0\n",
      "  tk                 pkgs/main/osx-64::tk-8.6.11-h7bc2e8c_0\n",
      "  tzdata             pkgs/main/noarch::tzdata-2022a-hda174b7_0\n",
      "  wheel              pkgs/main/noarch::wheel-0.37.1-pyhd3eb1b0_0\n",
      "  xz                 pkgs/main/osx-64::xz-5.2.5-h1de35cc_0\n",
      "  zlib               pkgs/main/osx-64::zlib-1.2.12-h4dc903c_2\n",
      "\n",
      "\n",
      "Preparing transaction: done\n",
      "Verifying transaction: done\n",
      "Executing transaction: done\n",
      "#\n",
      "# To activate this environment, use\n",
      "#\n",
      "#     $ conda activate py39_12\n",
      "#\n",
      "# To deactivate an active environment, use\n",
      "#\n",
      "#     $ conda deactivate\n",
      "\n"
     ]
    }
   ],
   "source": [
    "!conda create --name py39_12 python=3.9.12 --yes"
   ]
  },
  {
   "cell_type": "code",
   "execution_count": 27,
   "id": "d0bd2f20",
   "metadata": {},
   "outputs": [
    {
     "name": "stdout",
     "output_type": "stream",
     "text": [
      "# conda environments:\n",
      "#\n",
      "base                  *  /Users/shounakg/opt/anaconda3\n",
      "py39_12                  /Users/shounakg/opt/anaconda3/envs/py39_12\n",
      "\n"
     ]
    }
   ],
   "source": [
    "# list all environments in conda\n",
    "!conda env list"
   ]
  },
  {
   "cell_type": "markdown",
   "id": "a1efee8c",
   "metadata": {},
   "source": [
    "You shall see something like this:\n",
    "```\n",
    "# conda environments:\n",
    "#\n",
    "                         /Users/flora/miniforge3\n",
    "                         /Users/flora/miniforge3/envs/tf38\n",
    "base                  *  /usr/local/Caskroom/miniforge/base\n",
    "py39                     /usr/local/Caskroom/miniforge/base/envs/py39\n",
    "py39_12                  /usr/local/Caskroom/miniforge/base/envs/py39_12\n",
    "```"
   ]
  },
  {
   "cell_type": "markdown",
   "id": "a669545e",
   "metadata": {},
   "source": [
    "### Activate an env"
   ]
  },
  {
   "cell_type": "markdown",
   "id": "46aefe99",
   "metadata": {},
   "source": [
    "By default, you are under the `base` environment, to activate the new environement, run `conda activate py39_12` in terminal.\n",
    "\n",
    "If you are using VS code, click on the top right button to switch python kernel. You will be prompted to install `ipykernel`, follow the instructions to install the package. Or you can run `source activate`, followed by \n",
    "`conda activate /usr/local/Caskroom/miniforge/base/envs/py39_12` in a cell. \n",
    "\n",
    "If you are using jupyter notebook on a localhost (by defaut 8888), you can restart the jupyter notebook after activating the new environment.\n",
    "\n",
    "Now verify the python version:"
   ]
  },
  {
   "cell_type": "code",
   "execution_count": 1,
   "id": "9f594848",
   "metadata": {},
   "outputs": [
    {
     "name": "stdout",
     "output_type": "stream",
     "text": [
      "no change     /Users/shounakg/opt/anaconda3/condabin/conda\n",
      "no change     /Users/shounakg/opt/anaconda3/bin/conda\n",
      "no change     /Users/shounakg/opt/anaconda3/bin/conda-env\n",
      "no change     /Users/shounakg/opt/anaconda3/bin/activate\n",
      "no change     /Users/shounakg/opt/anaconda3/bin/deactivate\n",
      "no change     /Users/shounakg/opt/anaconda3/etc/profile.d/conda.sh\n",
      "no change     /Users/shounakg/opt/anaconda3/etc/fish/conf.d/conda.fish\n",
      "no change     /Users/shounakg/opt/anaconda3/shell/condabin/Conda.psm1\n",
      "no change     /Users/shounakg/opt/anaconda3/shell/condabin/conda-hook.ps1\n",
      "no change     /Users/shounakg/opt/anaconda3/lib/python3.9/site-packages/xontrib/conda.xsh\n",
      "no change     /Users/shounakg/opt/anaconda3/etc/profile.d/conda.csh\n",
      "no change     /Users/shounakg/.bash_profile\n",
      "No action taken.\n"
     ]
    },
    {
     "name": "stderr",
     "output_type": "stream",
     "text": [
      "\n",
      "CommandNotFoundError: Your shell has not been properly configured to use 'conda activate'.\n",
      "To initialize your shell, run\n",
      "\n",
      "    $ conda init <SHELL_NAME>\n",
      "\n",
      "Currently supported shells are:\n",
      "  - bash\n",
      "  - fish\n",
      "  - tcsh\n",
      "  - xonsh\n",
      "  - zsh\n",
      "  - powershell\n",
      "\n",
      "See 'conda init --help' for more information and options.\n",
      "\n",
      "IMPORTANT: You may need to close and restart your shell after running 'conda init'.\n",
      "\n",
      "\n"
     ]
    },
    {
     "ename": "CalledProcessError",
     "evalue": "Command 'b'# activate the environment\\nconda init bash\\nconda activate py39_12\\n'' returned non-zero exit status 1.",
     "output_type": "error",
     "traceback": [
      "\u001b[0;31m---------------------------------------------------------------------------\u001b[0m",
      "\u001b[0;31mCalledProcessError\u001b[0m                        Traceback (most recent call last)",
      "\u001b[1;32m/Users/shounakg/Documents/naive-addition/unix-conda-pip.ipynb Cell 44'\u001b[0m in \u001b[0;36m<cell line: 1>\u001b[0;34m()\u001b[0m\n\u001b[0;32m----> <a href='vscode-notebook-cell:/Users/shounakg/Documents/naive-addition/unix-conda-pip.ipynb#ch0000044?line=0'>1</a>\u001b[0m get_ipython()\u001b[39m.\u001b[39;49mrun_cell_magic(\u001b[39m'\u001b[39;49m\u001b[39mbash\u001b[39;49m\u001b[39m'\u001b[39;49m, \u001b[39m'\u001b[39;49m\u001b[39m'\u001b[39;49m, \u001b[39m'\u001b[39;49m\u001b[39m# activate the environment\u001b[39;49m\u001b[39m\\n\u001b[39;49;00m\u001b[39mconda init bash\u001b[39;49m\u001b[39m\\n\u001b[39;49;00m\u001b[39mconda activate py39_12\u001b[39;49m\u001b[39m\\n\u001b[39;49;00m\u001b[39m'\u001b[39;49m)\n",
      "File \u001b[0;32m~/opt/anaconda3/envs/py39_12/lib/python3.9/site-packages/IPython/core/interactiveshell.py:2357\u001b[0m, in \u001b[0;36mInteractiveShell.run_cell_magic\u001b[0;34m(self, magic_name, line, cell)\u001b[0m\n\u001b[1;32m   <a href='file:///Users/shounakg/opt/anaconda3/envs/py39_12/lib/python3.9/site-packages/IPython/core/interactiveshell.py?line=2354'>2355</a>\u001b[0m \u001b[39mwith\u001b[39;00m \u001b[39mself\u001b[39m\u001b[39m.\u001b[39mbuiltin_trap:\n\u001b[1;32m   <a href='file:///Users/shounakg/opt/anaconda3/envs/py39_12/lib/python3.9/site-packages/IPython/core/interactiveshell.py?line=2355'>2356</a>\u001b[0m     args \u001b[39m=\u001b[39m (magic_arg_s, cell)\n\u001b[0;32m-> <a href='file:///Users/shounakg/opt/anaconda3/envs/py39_12/lib/python3.9/site-packages/IPython/core/interactiveshell.py?line=2356'>2357</a>\u001b[0m     result \u001b[39m=\u001b[39m fn(\u001b[39m*\u001b[39;49margs, \u001b[39m*\u001b[39;49m\u001b[39m*\u001b[39;49mkwargs)\n\u001b[1;32m   <a href='file:///Users/shounakg/opt/anaconda3/envs/py39_12/lib/python3.9/site-packages/IPython/core/interactiveshell.py?line=2357'>2358</a>\u001b[0m \u001b[39mreturn\u001b[39;00m result\n",
      "File \u001b[0;32m~/opt/anaconda3/envs/py39_12/lib/python3.9/site-packages/IPython/core/magics/script.py:153\u001b[0m, in \u001b[0;36mScriptMagics._make_script_magic.<locals>.named_script_magic\u001b[0;34m(line, cell)\u001b[0m\n\u001b[1;32m    <a href='file:///Users/shounakg/opt/anaconda3/envs/py39_12/lib/python3.9/site-packages/IPython/core/magics/script.py?line=150'>151</a>\u001b[0m \u001b[39melse\u001b[39;00m:\n\u001b[1;32m    <a href='file:///Users/shounakg/opt/anaconda3/envs/py39_12/lib/python3.9/site-packages/IPython/core/magics/script.py?line=151'>152</a>\u001b[0m     line \u001b[39m=\u001b[39m script\n\u001b[0;32m--> <a href='file:///Users/shounakg/opt/anaconda3/envs/py39_12/lib/python3.9/site-packages/IPython/core/magics/script.py?line=152'>153</a>\u001b[0m \u001b[39mreturn\u001b[39;00m \u001b[39mself\u001b[39;49m\u001b[39m.\u001b[39;49mshebang(line, cell)\n",
      "File \u001b[0;32m~/opt/anaconda3/envs/py39_12/lib/python3.9/site-packages/IPython/core/magics/script.py:305\u001b[0m, in \u001b[0;36mScriptMagics.shebang\u001b[0;34m(self, line, cell)\u001b[0m\n\u001b[1;32m    <a href='file:///Users/shounakg/opt/anaconda3/envs/py39_12/lib/python3.9/site-packages/IPython/core/magics/script.py?line=299'>300</a>\u001b[0m \u001b[39mif\u001b[39;00m args\u001b[39m.\u001b[39mraise_error \u001b[39mand\u001b[39;00m p\u001b[39m.\u001b[39mreturncode \u001b[39m!=\u001b[39m \u001b[39m0\u001b[39m:\n\u001b[1;32m    <a href='file:///Users/shounakg/opt/anaconda3/envs/py39_12/lib/python3.9/site-packages/IPython/core/magics/script.py?line=300'>301</a>\u001b[0m     \u001b[39m# If we get here and p.returncode is still None, we must have\u001b[39;00m\n\u001b[1;32m    <a href='file:///Users/shounakg/opt/anaconda3/envs/py39_12/lib/python3.9/site-packages/IPython/core/magics/script.py?line=301'>302</a>\u001b[0m     \u001b[39m# killed it but not yet seen its return code. We don't wait for it,\u001b[39;00m\n\u001b[1;32m    <a href='file:///Users/shounakg/opt/anaconda3/envs/py39_12/lib/python3.9/site-packages/IPython/core/magics/script.py?line=302'>303</a>\u001b[0m     \u001b[39m# in case it's stuck in uninterruptible sleep. -9 = SIGKILL\u001b[39;00m\n\u001b[1;32m    <a href='file:///Users/shounakg/opt/anaconda3/envs/py39_12/lib/python3.9/site-packages/IPython/core/magics/script.py?line=303'>304</a>\u001b[0m     rc \u001b[39m=\u001b[39m p\u001b[39m.\u001b[39mreturncode \u001b[39mor\u001b[39;00m \u001b[39m-\u001b[39m\u001b[39m9\u001b[39m\n\u001b[0;32m--> <a href='file:///Users/shounakg/opt/anaconda3/envs/py39_12/lib/python3.9/site-packages/IPython/core/magics/script.py?line=304'>305</a>\u001b[0m     \u001b[39mraise\u001b[39;00m CalledProcessError(rc, cell)\n",
      "\u001b[0;31mCalledProcessError\u001b[0m: Command 'b'# activate the environment\\nconda init bash\\nconda activate py39_12\\n'' returned non-zero exit status 1."
     ]
    }
   ],
   "source": [
    "%%bash\n",
    "# activate the environment\n",
    "conda init bash\n",
    "conda activate py39_12"
   ]
  },
  {
   "cell_type": "code",
   "execution_count": 2,
   "id": "265f7506",
   "metadata": {},
   "outputs": [
    {
     "name": "stdout",
     "output_type": "stream",
     "text": [
      "Python 3.9.12\n",
      "/Users/shounakg/opt/anaconda3/envs/py39_12/bin/python\n",
      "# conda environments:\n",
      "#\n",
      "base                     /Users/shounakg/opt/anaconda3\n",
      "py39_12               *  /Users/shounakg/opt/anaconda3/envs/py39_12\n",
      "\n"
     ]
    }
   ],
   "source": [
    "%%bash\n",
    "\n",
    "python --version\n",
    "which python\n",
    "conda env list"
   ]
  },
  {
   "cell_type": "markdown",
   "id": "08985441",
   "metadata": {},
   "source": [
    "<details>\n",
    "<summary>Click to see how to add the Conda env to you jupyter notebook kernels</summary>\n",
    "\n",
    "```\n",
    "pip install ipykernel\n",
    "python -m ipykernel install --user --name=py39_12\n",
    "```\n",
    "\n",
    "Next time you launch jupyter notebook, you will see `py39_12` as an option under Kernel/Change kernel.\n",
    "</details>\n",
    "\n",
    "\n"
   ]
  },
  {
   "cell_type": "markdown",
   "id": "bfc622f5",
   "metadata": {},
   "source": [
    "### Delete an env"
   ]
  },
  {
   "cell_type": "markdown",
   "id": "99ecb107",
   "metadata": {},
   "source": [
    "To keep a lean list of environments, we want to prune unused environements from time to time. Simply do the following\n",
    "```\n",
    "conda remove --name old_env --all --yes\n",
    "```"
   ]
  },
  {
   "cell_type": "markdown",
   "id": "8f3e11d0",
   "metadata": {},
   "source": [
    "## Pip: python package manager"
   ]
  },
  {
   "cell_type": "markdown",
   "id": "6e2dc9e0",
   "metadata": {},
   "source": [
    "We recommend to use pip as your python package installer/manager [(fun read on pip vs conda.)](https://stackoverflow.com/questions/20994716/what-is-the-difference-between-pip-and-conda) Note you don't have install pip explictly since it was done during the installation of miniconda/miniforge. "
   ]
  },
  {
   "cell_type": "code",
   "execution_count": 3,
   "id": "ac8585e9",
   "metadata": {},
   "outputs": [
    {
     "name": "stdout",
     "output_type": "stream",
     "text": [
      "/Users/shounakg/opt/anaconda3/envs/py39_12/bin/pip\n"
     ]
    }
   ],
   "source": [
    "!which pip"
   ]
  },
  {
   "cell_type": "markdown",
   "id": "df4b9751",
   "metadata": {},
   "source": [
    "### Install package"
   ]
  },
  {
   "cell_type": "markdown",
   "id": "8913690d",
   "metadata": {},
   "source": [
    "We can certainly run `pip` commands the same way as earlier. Just for fun, let's try Jupyter line magic `%pip`. \n",
    "\n",
    "First make sure that we would like to have the most recent version of `pip` installed."
   ]
  },
  {
   "cell_type": "code",
   "execution_count": 4,
   "id": "f10cab48",
   "metadata": {},
   "outputs": [
    {
     "name": "stdout",
     "output_type": "stream",
     "text": [
      "Requirement already satisfied: pip in /Users/shounakg/opt/anaconda3/envs/py39_12/lib/python3.9/site-packages (22.0.4)\n",
      "Note: you may need to restart the kernel to use updated packages.\n"
     ]
    }
   ],
   "source": [
    "%pip install --upgrade pip"
   ]
  },
  {
   "cell_type": "code",
   "execution_count": 5,
   "id": "6f5a19b8",
   "metadata": {},
   "outputs": [
    {
     "name": "stdout",
     "output_type": "stream",
     "text": [
      "Collecting numpy\n",
      "  Using cached numpy-1.22.3-cp39-cp39-macosx_10_14_x86_64.whl (17.6 MB)\n",
      "Collecting pandas\n",
      "  Using cached pandas-1.4.2-cp39-cp39-macosx_10_9_x86_64.whl (11.1 MB)\n",
      "Requirement already satisfied: python-dateutil>=2.8.1 in /Users/shounakg/opt/anaconda3/envs/py39_12/lib/python3.9/site-packages (from pandas) (2.8.2)\n",
      "Collecting pytz>=2020.1\n",
      "  Using cached pytz-2022.1-py2.py3-none-any.whl (503 kB)\n",
      "Requirement already satisfied: six>=1.5 in /Users/shounakg/opt/anaconda3/envs/py39_12/lib/python3.9/site-packages (from python-dateutil>=2.8.1->pandas) (1.16.0)\n",
      "Installing collected packages: pytz, numpy, pandas\n",
      "Successfully installed numpy-1.22.3 pandas-1.4.2 pytz-2022.1\n",
      "Note: you may need to restart the kernel to use updated packages.\n"
     ]
    }
   ],
   "source": [
    "%pip install numpy pandas"
   ]
  },
  {
   "cell_type": "markdown",
   "id": "b23b1338",
   "metadata": {},
   "source": [
    "Now you can use these packages:"
   ]
  },
  {
   "cell_type": "code",
   "execution_count": 6,
   "id": "5e863b17",
   "metadata": {},
   "outputs": [],
   "source": [
    "# allow multiple outputs in a single cell\n",
    "from IPython.core.interactiveshell import InteractiveShell\n",
    "InteractiveShell.ast_node_interactivity = \"all\""
   ]
  },
  {
   "cell_type": "code",
   "execution_count": 7,
   "id": "88f533d8",
   "metadata": {},
   "outputs": [
    {
     "data": {
      "text/plain": [
       "(10,)"
      ]
     },
     "execution_count": 7,
     "metadata": {},
     "output_type": "execute_result"
    },
    {
     "data": {
      "text/plain": [
       "array([[0.60019661, 0.81217642],\n",
       "       [0.47990432, 0.91299258],\n",
       "       [0.45646615, 0.62255969],\n",
       "       [0.22296825, 0.61545442],\n",
       "       [0.50286556, 0.949062  ]])"
      ]
     },
     "execution_count": 7,
     "metadata": {},
     "output_type": "execute_result"
    }
   ],
   "source": [
    "import numpy as np\n",
    "\n",
    "# create a numpy array with random numbers\n",
    "x = np.random.rand(10)\n",
    "x.shape\n",
    "x.reshape((5,-1))"
   ]
  },
  {
   "cell_type": "code",
   "execution_count": 8,
   "id": "77844449",
   "metadata": {},
   "outputs": [
    {
     "data": {
      "text/plain": [
       "'%.3f'"
      ]
     },
     "execution_count": 8,
     "metadata": {},
     "output_type": "execute_result"
    },
    {
     "data": {
      "text/plain": [
       "array([[0.6  , 0.812],\n",
       "       [0.48 , 0.913],\n",
       "       [0.456, 0.623],\n",
       "       [0.223, 0.615],\n",
       "       [0.503, 0.949]])"
      ]
     },
     "execution_count": 8,
     "metadata": {},
     "output_type": "execute_result"
    }
   ],
   "source": [
    "%precision 3\n",
    "x.reshape((5,-1))"
   ]
  },
  {
   "cell_type": "code",
   "execution_count": 9,
   "id": "c3777c14",
   "metadata": {},
   "outputs": [
    {
     "data": {
      "text/html": [
       "<div>\n",
       "<style scoped>\n",
       "    .dataframe tbody tr th:only-of-type {\n",
       "        vertical-align: middle;\n",
       "    }\n",
       "\n",
       "    .dataframe tbody tr th {\n",
       "        vertical-align: top;\n",
       "    }\n",
       "\n",
       "    .dataframe thead th {\n",
       "        text-align: right;\n",
       "    }\n",
       "</style>\n",
       "<table border=\"1\" class=\"dataframe\">\n",
       "  <thead>\n",
       "    <tr style=\"text-align: right;\">\n",
       "      <th></th>\n",
       "      <th>0</th>\n",
       "      <th>1</th>\n",
       "      <th>2</th>\n",
       "      <th>3</th>\n",
       "      <th>4</th>\n",
       "      <th>5</th>\n",
       "      <th>6</th>\n",
       "      <th>7</th>\n",
       "      <th>8</th>\n",
       "      <th>9</th>\n",
       "      <th>10</th>\n",
       "      <th>11</th>\n",
       "      <th>12</th>\n",
       "      <th>13</th>\n",
       "      <th>14</th>\n",
       "    </tr>\n",
       "  </thead>\n",
       "  <tbody>\n",
       "    <tr>\n",
       "      <th>0</th>\n",
       "      <td>39</td>\n",
       "      <td>State-gov</td>\n",
       "      <td>77516</td>\n",
       "      <td>Bachelors</td>\n",
       "      <td>13</td>\n",
       "      <td>Never-married</td>\n",
       "      <td>Adm-clerical</td>\n",
       "      <td>Not-in-family</td>\n",
       "      <td>White</td>\n",
       "      <td>Male</td>\n",
       "      <td>2174</td>\n",
       "      <td>0</td>\n",
       "      <td>40</td>\n",
       "      <td>United-States</td>\n",
       "      <td>&lt;=50K</td>\n",
       "    </tr>\n",
       "    <tr>\n",
       "      <th>1</th>\n",
       "      <td>50</td>\n",
       "      <td>Self-emp-not-inc</td>\n",
       "      <td>83311</td>\n",
       "      <td>Bachelors</td>\n",
       "      <td>13</td>\n",
       "      <td>Married-civ-spouse</td>\n",
       "      <td>Exec-managerial</td>\n",
       "      <td>Husband</td>\n",
       "      <td>White</td>\n",
       "      <td>Male</td>\n",
       "      <td>0</td>\n",
       "      <td>0</td>\n",
       "      <td>13</td>\n",
       "      <td>United-States</td>\n",
       "      <td>&lt;=50K</td>\n",
       "    </tr>\n",
       "    <tr>\n",
       "      <th>2</th>\n",
       "      <td>38</td>\n",
       "      <td>Private</td>\n",
       "      <td>215646</td>\n",
       "      <td>HS-grad</td>\n",
       "      <td>9</td>\n",
       "      <td>Divorced</td>\n",
       "      <td>Handlers-cleaners</td>\n",
       "      <td>Not-in-family</td>\n",
       "      <td>White</td>\n",
       "      <td>Male</td>\n",
       "      <td>0</td>\n",
       "      <td>0</td>\n",
       "      <td>40</td>\n",
       "      <td>United-States</td>\n",
       "      <td>&lt;=50K</td>\n",
       "    </tr>\n",
       "    <tr>\n",
       "      <th>3</th>\n",
       "      <td>53</td>\n",
       "      <td>Private</td>\n",
       "      <td>234721</td>\n",
       "      <td>11th</td>\n",
       "      <td>7</td>\n",
       "      <td>Married-civ-spouse</td>\n",
       "      <td>Handlers-cleaners</td>\n",
       "      <td>Husband</td>\n",
       "      <td>Black</td>\n",
       "      <td>Male</td>\n",
       "      <td>0</td>\n",
       "      <td>0</td>\n",
       "      <td>40</td>\n",
       "      <td>United-States</td>\n",
       "      <td>&lt;=50K</td>\n",
       "    </tr>\n",
       "    <tr>\n",
       "      <th>4</th>\n",
       "      <td>28</td>\n",
       "      <td>Private</td>\n",
       "      <td>338409</td>\n",
       "      <td>Bachelors</td>\n",
       "      <td>13</td>\n",
       "      <td>Married-civ-spouse</td>\n",
       "      <td>Prof-specialty</td>\n",
       "      <td>Wife</td>\n",
       "      <td>Black</td>\n",
       "      <td>Female</td>\n",
       "      <td>0</td>\n",
       "      <td>0</td>\n",
       "      <td>40</td>\n",
       "      <td>Cuba</td>\n",
       "      <td>&lt;=50K</td>\n",
       "    </tr>\n",
       "  </tbody>\n",
       "</table>\n",
       "</div>"
      ],
      "text/plain": [
       "   0                  1       2           3   4                    5   \\\n",
       "0  39          State-gov   77516   Bachelors  13        Never-married   \n",
       "1  50   Self-emp-not-inc   83311   Bachelors  13   Married-civ-spouse   \n",
       "2  38            Private  215646     HS-grad   9             Divorced   \n",
       "3  53            Private  234721        11th   7   Married-civ-spouse   \n",
       "4  28            Private  338409   Bachelors  13   Married-civ-spouse   \n",
       "\n",
       "                   6               7       8        9     10  11  12  \\\n",
       "0        Adm-clerical   Not-in-family   White     Male  2174   0  40   \n",
       "1     Exec-managerial         Husband   White     Male     0   0  13   \n",
       "2   Handlers-cleaners   Not-in-family   White     Male     0   0  40   \n",
       "3   Handlers-cleaners         Husband   Black     Male     0   0  40   \n",
       "4      Prof-specialty            Wife   Black   Female     0   0  40   \n",
       "\n",
       "               13      14  \n",
       "0   United-States   <=50K  \n",
       "1   United-States   <=50K  \n",
       "2   United-States   <=50K  \n",
       "3   United-States   <=50K  \n",
       "4            Cuba   <=50K  "
      ]
     },
     "execution_count": 9,
     "metadata": {},
     "output_type": "execute_result"
    },
    {
     "data": {
      "text/html": [
       "<div>\n",
       "<style scoped>\n",
       "    .dataframe tbody tr th:only-of-type {\n",
       "        vertical-align: middle;\n",
       "    }\n",
       "\n",
       "    .dataframe tbody tr th {\n",
       "        vertical-align: top;\n",
       "    }\n",
       "\n",
       "    .dataframe thead th {\n",
       "        text-align: right;\n",
       "    }\n",
       "</style>\n",
       "<table border=\"1\" class=\"dataframe\">\n",
       "  <thead>\n",
       "    <tr style=\"text-align: right;\">\n",
       "      <th></th>\n",
       "      <th>0</th>\n",
       "      <th>1</th>\n",
       "      <th>2</th>\n",
       "      <th>3</th>\n",
       "      <th>4</th>\n",
       "      <th>5</th>\n",
       "      <th>6</th>\n",
       "      <th>7</th>\n",
       "      <th>8</th>\n",
       "      <th>9</th>\n",
       "      <th>10</th>\n",
       "      <th>11</th>\n",
       "      <th>12</th>\n",
       "      <th>13</th>\n",
       "      <th>14</th>\n",
       "    </tr>\n",
       "  </thead>\n",
       "  <tbody>\n",
       "    <tr>\n",
       "      <th>32556</th>\n",
       "      <td>27</td>\n",
       "      <td>Private</td>\n",
       "      <td>257302</td>\n",
       "      <td>Assoc-acdm</td>\n",
       "      <td>12</td>\n",
       "      <td>Married-civ-spouse</td>\n",
       "      <td>Tech-support</td>\n",
       "      <td>Wife</td>\n",
       "      <td>White</td>\n",
       "      <td>Female</td>\n",
       "      <td>0</td>\n",
       "      <td>0</td>\n",
       "      <td>38</td>\n",
       "      <td>United-States</td>\n",
       "      <td>&lt;=50K</td>\n",
       "    </tr>\n",
       "    <tr>\n",
       "      <th>32557</th>\n",
       "      <td>40</td>\n",
       "      <td>Private</td>\n",
       "      <td>154374</td>\n",
       "      <td>HS-grad</td>\n",
       "      <td>9</td>\n",
       "      <td>Married-civ-spouse</td>\n",
       "      <td>Machine-op-inspct</td>\n",
       "      <td>Husband</td>\n",
       "      <td>White</td>\n",
       "      <td>Male</td>\n",
       "      <td>0</td>\n",
       "      <td>0</td>\n",
       "      <td>40</td>\n",
       "      <td>United-States</td>\n",
       "      <td>&gt;50K</td>\n",
       "    </tr>\n",
       "    <tr>\n",
       "      <th>32558</th>\n",
       "      <td>58</td>\n",
       "      <td>Private</td>\n",
       "      <td>151910</td>\n",
       "      <td>HS-grad</td>\n",
       "      <td>9</td>\n",
       "      <td>Widowed</td>\n",
       "      <td>Adm-clerical</td>\n",
       "      <td>Unmarried</td>\n",
       "      <td>White</td>\n",
       "      <td>Female</td>\n",
       "      <td>0</td>\n",
       "      <td>0</td>\n",
       "      <td>40</td>\n",
       "      <td>United-States</td>\n",
       "      <td>&lt;=50K</td>\n",
       "    </tr>\n",
       "    <tr>\n",
       "      <th>32559</th>\n",
       "      <td>22</td>\n",
       "      <td>Private</td>\n",
       "      <td>201490</td>\n",
       "      <td>HS-grad</td>\n",
       "      <td>9</td>\n",
       "      <td>Never-married</td>\n",
       "      <td>Adm-clerical</td>\n",
       "      <td>Own-child</td>\n",
       "      <td>White</td>\n",
       "      <td>Male</td>\n",
       "      <td>0</td>\n",
       "      <td>0</td>\n",
       "      <td>20</td>\n",
       "      <td>United-States</td>\n",
       "      <td>&lt;=50K</td>\n",
       "    </tr>\n",
       "    <tr>\n",
       "      <th>32560</th>\n",
       "      <td>52</td>\n",
       "      <td>Self-emp-inc</td>\n",
       "      <td>287927</td>\n",
       "      <td>HS-grad</td>\n",
       "      <td>9</td>\n",
       "      <td>Married-civ-spouse</td>\n",
       "      <td>Exec-managerial</td>\n",
       "      <td>Wife</td>\n",
       "      <td>White</td>\n",
       "      <td>Female</td>\n",
       "      <td>15024</td>\n",
       "      <td>0</td>\n",
       "      <td>40</td>\n",
       "      <td>United-States</td>\n",
       "      <td>&gt;50K</td>\n",
       "    </tr>\n",
       "  </tbody>\n",
       "</table>\n",
       "</div>"
      ],
      "text/plain": [
       "       0              1       2            3   4                    5   \\\n",
       "32556  27        Private  257302   Assoc-acdm  12   Married-civ-spouse   \n",
       "32557  40        Private  154374      HS-grad   9   Married-civ-spouse   \n",
       "32558  58        Private  151910      HS-grad   9              Widowed   \n",
       "32559  22        Private  201490      HS-grad   9        Never-married   \n",
       "32560  52   Self-emp-inc  287927      HS-grad   9   Married-civ-spouse   \n",
       "\n",
       "                       6           7       8        9      10  11  12  \\\n",
       "32556        Tech-support        Wife   White   Female      0   0  38   \n",
       "32557   Machine-op-inspct     Husband   White     Male      0   0  40   \n",
       "32558        Adm-clerical   Unmarried   White   Female      0   0  40   \n",
       "32559        Adm-clerical   Own-child   White     Male      0   0  20   \n",
       "32560     Exec-managerial        Wife   White   Female  15024   0  40   \n",
       "\n",
       "                   13      14  \n",
       "32556   United-States   <=50K  \n",
       "32557   United-States    >50K  \n",
       "32558   United-States   <=50K  \n",
       "32559   United-States   <=50K  \n",
       "32560   United-States    >50K  "
      ]
     },
     "execution_count": 9,
     "metadata": {},
     "output_type": "execute_result"
    },
    {
     "data": {
      "text/plain": [
       "(32561, 15)"
      ]
     },
     "execution_count": 9,
     "metadata": {},
     "output_type": "execute_result"
    }
   ],
   "source": [
    "import pandas as pd\n",
    "census_df = pd.read_csv(filepath_or_buffer='../dat/adult.csv', header = None)\n",
    "census_df.head()\n",
    "census_df.tail()\n",
    "census_df.shape"
   ]
  },
  {
   "cell_type": "markdown",
   "id": "d99563f1",
   "metadata": {},
   "source": [
    "### Uninstall packages"
   ]
  },
  {
   "cell_type": "code",
   "execution_count": 10,
   "id": "cd13cba4",
   "metadata": {},
   "outputs": [
    {
     "name": "stdout",
     "output_type": "stream",
     "text": [
      "Found existing installation: numpy 1.22.3\n",
      "Uninstalling numpy-1.22.3:\n",
      "  Successfully uninstalled numpy-1.22.3\n",
      "Found existing installation: pandas 1.4.2\n",
      "Uninstalling pandas-1.4.2:\n",
      "  Successfully uninstalled pandas-1.4.2\n",
      "Note: you may need to restart the kernel to use updated packages.\n"
     ]
    }
   ],
   "source": [
    "# Uninstall a package\n",
    "%pip uninstall numpy pandas --yes"
   ]
  },
  {
   "cell_type": "code",
   "execution_count": 11,
   "id": "3dba9166",
   "metadata": {},
   "outputs": [
    {
     "name": "stdout",
     "output_type": "stream",
     "text": [
      "Files removed: 257\n",
      "Note: you may need to restart the kernel to use updated packages.\n"
     ]
    }
   ],
   "source": [
    "%pip cache purge"
   ]
  }
 ],
 "metadata": {
  "interpreter": {
   "hash": "5927eeb448d79922bc8ff2e0b29f33a28322850e36c32320028d81390f797ebb"
  },
  "kernelspec": {
   "display_name": "Python 3 (ipykernel)",
   "language": "python",
   "name": "python3"
  },
  "language_info": {
   "codemirror_mode": {
    "name": "ipython",
    "version": 3
   },
   "file_extension": ".py",
   "mimetype": "text/x-python",
   "name": "python",
   "nbconvert_exporter": "python",
   "pygments_lexer": "ipython3",
   "version": "3.9.12"
  },
  "toc": {
   "base_numbering": 1,
   "nav_menu": {},
   "number_sections": true,
   "sideBar": true,
   "skip_h1_title": false,
   "title_cell": "Table of Contents",
   "title_sidebar": "Contents",
   "toc_cell": false,
   "toc_position": {},
   "toc_section_display": true,
   "toc_window_display": true
  }
 },
 "nbformat": 4,
 "nbformat_minor": 5
}
